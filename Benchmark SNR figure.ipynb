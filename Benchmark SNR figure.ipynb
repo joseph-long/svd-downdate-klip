{
 "metadata": {
  "language_info": {
   "codemirror_mode": {
    "name": "ipython",
    "version": 3
   },
   "file_extension": ".py",
   "mimetype": "text/x-python",
   "name": "python",
   "nbconvert_exporter": "python",
   "pygments_lexer": "ipython3",
   "version": "3.7.9-final"
  },
  "orig_nbformat": 2,
  "kernelspec": {
   "name": "Python 3.7.9 64-bit ('miniconda3': virtualenv)",
   "display_name": "Python 3.7.9 64-bit ('miniconda3': virtualenv)",
   "metadata": {
    "interpreter": {
     "hash": "f49208dc8fe36cd95d60ef44632e58380607fa1905318633bbec5308964585a9"
    }
   }
  }
 },
 "nbformat": 4,
 "nbformat_minor": 2,
 "cells": [
  {
   "source": [
    "# Plot the effect of subtracting $k$ modes on the recovered SNR\n",
    "\n",
    "Messy code follows. Reader beware."
   ],
   "cell_type": "markdown",
   "metadata": {}
  },
  {
   "cell_type": "code",
   "execution_count": null,
   "metadata": {},
   "outputs": [],
   "source": [
    "plt.rc('text', usetex=True)\n",
    "plt.rc('font', family='serif')"
   ]
  },
  {
   "cell_type": "code",
   "execution_count": null,
   "metadata": {},
   "outputs": [],
   "source": [
    "# n_frames,k_modes,p_pixels,device,decomposer,solver,gaussian_fwhm,snr\n",
    "benchmark_data = np.genfromtxt(\n",
    "    './out_benchmark_snr.csv', \n",
    "    delimiter=',',\n",
    "    dtype=[('n_frames', '<f8'), ('k_modes', '<f8'), ('p_pixels', '<f8'), ('device', 'S3'),\n",
    "            ('decomposer', 'S25'), ('solver', 'S25'), ('gaussian_fwhm', '<f8'), ('snr', '<f8')],\n",
    "    skip_header=1,\n",
    ")\n",
    "p_pixels = int(np.unique(benchmark_data['p_pixels'])[0])\n",
    "p_pixels"
   ]
  },
  {
   "cell_type": "code",
   "execution_count": null,
   "metadata": {},
   "outputs": [],
   "source": [
    "benchmark_data['gaussian_fwhm'][np.isnan(benchmark_data['gaussian_fwhm'])] = 0"
   ]
  },
  {
   "cell_type": "code",
   "execution_count": null,
   "metadata": {},
   "outputs": [],
   "source": [
    "def one_snr_curve(decomposer_name, solver_name, device, gaussian_fwhm):\n",
    "    mask = (\n",
    "        (benchmark_data['decomposer'] == decomposer_name.encode('utf8')) &\n",
    "        (benchmark_data['solver'] == solver_name.encode('utf8')) &\n",
    "        (benchmark_data['device'] == device.encode('utf8')) &\n",
    "        (benchmark_data['gaussian_fwhm'] == gaussian_fwhm)\n",
    "    )\n",
    "    k_modes = benchmark_data[mask]['k_modes']\n",
    "    snrs = benchmark_data[mask]['snr']\n",
    "    sorter = np.argsort(k_modes)\n",
    "    k_modes = k_modes[sorter]\n",
    "    snrs = snrs[sorter]\n",
    "    return k_modes, snrs"
   ]
  },
  {
   "cell_type": "code",
   "execution_count": null,
   "metadata": {},
   "outputs": [],
   "source": [
    "plt.figure(figsize=(4,3))\n",
    "plt.plot(*one_snr_curve('DowndateSVDDecomposer', 'torch_svd', 'cpu', 0), c='C0', alpha=1, ls='-', label='KLIP with SVD modification')\n",
    "plt.plot(*one_snr_curve('CovarianceDecomposition', 'torch_symeig', 'cpu', 0), c='C1', alpha=1, ls='dashdot', label='KLIP with covariance')\n",
    "plt.plot(*one_snr_curve('ReuseSVDDecomposer', 'torch_svd', 'cpu', 0), c='C2', alpha=1, ls=':', label='KLIP without changing eigenimages')\n",
    "plt.ylim(0, 12)\n",
    "plt.xlim(0)\n",
    "plt.ylabel('Signal to noise ratio')\n",
    "plt.xlabel('Number of modes $k$ used in starlight subtraction')\n",
    "plt.grid()\n",
    "plt.legend(loc='lower left')\n",
    "plt.tight_layout()\n",
    "!mkdir -p ./figures\n",
    "plt.savefig('../figures/snr_comparison.pdf')"
   ]
  },
  {
   "cell_type": "code",
   "execution_count": null,
   "metadata": {},
   "outputs": [],
   "source": []
  }
 ]
}